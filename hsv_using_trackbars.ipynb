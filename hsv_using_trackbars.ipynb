{
 "cells": [
  {
   "cell_type": "code",
   "execution_count": 30,
   "metadata": {},
   "outputs": [
    {
     "ename": "error",
     "evalue": "OpenCV(4.5.1) /tmp/pip-req-build-ms668fyv/opencv/modules/highgui/src/window.cpp:376: error: (-215:Assertion failed) size.width>0 && size.height>0 in function 'imshow'\n",
     "output_type": "error",
     "traceback": [
      "\u001b[0;31m---------------------------------------------------------------------------\u001b[0m",
      "\u001b[0;31merror\u001b[0m                                     Traceback (most recent call last)",
      "\u001b[0;32m<ipython-input-30-a634d018fb8c>\u001b[0m in \u001b[0;36m<module>\u001b[0;34m\u001b[0m\n\u001b[1;32m     18\u001b[0m     \u001b[0mret\u001b[0m\u001b[0;34m,\u001b[0m \u001b[0mframe\u001b[0m \u001b[0;34m=\u001b[0m \u001b[0mcap\u001b[0m\u001b[0;34m.\u001b[0m\u001b[0mread\u001b[0m\u001b[0;34m(\u001b[0m\u001b[0;34m)\u001b[0m\u001b[0;34m\u001b[0m\u001b[0;34m\u001b[0m\u001b[0m\n\u001b[1;32m     19\u001b[0m \u001b[0;34m\u001b[0m\u001b[0m\n\u001b[0;32m---> 20\u001b[0;31m     \u001b[0mcv2\u001b[0m\u001b[0;34m.\u001b[0m\u001b[0mimshow\u001b[0m\u001b[0;34m(\u001b[0m\u001b[0;34m\"frame\"\u001b[0m\u001b[0;34m,\u001b[0m \u001b[0mframe\u001b[0m\u001b[0;34m)\u001b[0m\u001b[0;34m\u001b[0m\u001b[0;34m\u001b[0m\u001b[0m\n\u001b[0m\u001b[1;32m     21\u001b[0m \u001b[0;34m\u001b[0m\u001b[0m\n\u001b[1;32m     22\u001b[0m     \u001b[0mhsv\u001b[0m \u001b[0;34m=\u001b[0m \u001b[0mcv2\u001b[0m\u001b[0;34m.\u001b[0m\u001b[0mcvtColor\u001b[0m\u001b[0;34m(\u001b[0m\u001b[0mframe\u001b[0m\u001b[0;34m,\u001b[0m\u001b[0mcv2\u001b[0m\u001b[0;34m.\u001b[0m\u001b[0mCOLOR_BGR2HSV\u001b[0m\u001b[0;34m)\u001b[0m\u001b[0;34m\u001b[0m\u001b[0;34m\u001b[0m\u001b[0m\n",
      "\u001b[0;31merror\u001b[0m: OpenCV(4.5.1) /tmp/pip-req-build-ms668fyv/opencv/modules/highgui/src/window.cpp:376: error: (-215:Assertion failed) size.width>0 && size.height>0 in function 'imshow'\n"
     ]
    }
   ],
   "source": [
    "import cv2\n",
    "import numpy as np\n",
    "\n",
    "def nothing(x) :\n",
    "    pass\n",
    "\n",
    "cap = cv2.VideoCapture('road_track.mp4')\n",
    "cv2.namedWindow(\"Trackbars\")\n",
    "\n",
    "cv2.createTrackbar(\"Lower - H\", \"Trackbars\", 0, 179, nothing)\n",
    "cv2.createTrackbar(\"Lower - S\", \"Trackbars\", 0, 255, nothing)\n",
    "cv2.createTrackbar(\"Lower - V\",  \"Trackbars\",0, 255, nothing)\n",
    "cv2.createTrackbar(\"Upper - H\", \"Trackbars\", 0, 179, nothing)\n",
    "cv2.createTrackbar(\"Upper - S\", \"Trackbars\", 0, 255, nothing)\n",
    "cv2.createTrackbar(\"Upper - V\", \"Trackbars\", 0, 255, nothing)\n",
    "\n",
    "while(True):\n",
    "    ret, frame = cap.read()\n",
    "    \n",
    "    cv2.imshow(\"frame\", frame)\n",
    "    \n",
    "    hsv = cv2.cvtColor(frame,cv2.COLOR_BGR2HSV)\n",
    "    \n",
    "    l_h = cv2.getTrackbarPos(\"Lower - H\", \"Trackbars\")\n",
    "    l_s = cv2.getTrackbarPos(\"Lower - S\", \"Trackbars\")\n",
    "    l_v = cv2.getTrackbarPos(\"Lower - V\", \"Trackbars\")\n",
    "    \n",
    "    u_h = cv2.getTrackbarPos(\"Upper - H\", \"Trackbars\")\n",
    "    u_s = cv2.getTrackbarPos(\"Upper - S\", \"Trackbars\")\n",
    "    u_v = cv2.getTrackbarPos(\"Upper - V\", \"Trackbars\")\n",
    "    \n",
    "    \n",
    "    lower_hsv = np.array([l_h, l_s, l_v])\n",
    "    upper_hsv = np.array([u_h, u_s, u_v])\n",
    "    \n",
    "    mask = cv2.inRange(hsv, lower_hsv, upper_hsv)\n",
    "    \n",
    "    \n",
    "    cv2.imshow(\"mask\", mask)\n",
    "    \n",
    "    if cv2.waitKey(25) & 0xFF == ord('q'):\n",
    "        break\n",
    "\n",
    "\n",
    "        \n",
    "cap.release()\n",
    "cv2.destroyAllWindows()"
   ]
  },
  {
   "cell_type": "code",
   "execution_count": null,
   "metadata": {},
   "outputs": [],
   "source": []
  },
  {
   "cell_type": "code",
   "execution_count": null,
   "metadata": {},
   "outputs": [],
   "source": []
  },
  {
   "cell_type": "code",
   "execution_count": null,
   "metadata": {},
   "outputs": [],
   "source": []
  }
 ],
 "metadata": {
  "kernelspec": {
   "display_name": "Python 3",
   "language": "python",
   "name": "python3"
  },
  "language_info": {
   "codemirror_mode": {
    "name": "ipython",
    "version": 3
   },
   "file_extension": ".py",
   "mimetype": "text/x-python",
   "name": "python",
   "nbconvert_exporter": "python",
   "pygments_lexer": "ipython3",
   "version": "3.8.5"
  }
 },
 "nbformat": 4,
 "nbformat_minor": 4
}
